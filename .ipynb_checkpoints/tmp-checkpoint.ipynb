{
 "cells": [
  {
   "cell_type": "markdown",
   "metadata": {},
   "source": [
    "# CI-EKS: Covariance Inflation technique (offline)\n",
    "\n",
    "Here, we use the covariance inflation technique to account for understimated $P^f$ covariance matrix and estimate $R$ matrix. This code is from **Miyoshi 2011**: \"The Gaussian approach to adaptive covariance inflation and its implementation with the local ensemble transform Kalman filter\", *Monthly Weather Review*."
   ]
  },
  {
   "cell_type": "code",
   "execution_count": null,
   "metadata": {
    "collapsed": true
   },
   "outputs": [],
   "source": [
    "# initial counditions and number of iterations\n",
    "N_iter = 5\n",
    "lambda_init = 1\n",
    "sigma2_R_init = 1\n",
    "\n",
    "# parameters\n",
    "params = { 'initial_background_state'                 : xb,\n",
    "           'initial_background_covariance'            : B,\n",
    "           'initial_multiplicative_inflation'         : lambda_init,\n",
    "           'initial_observation_noise_variance'       : sigma2_R_init,\n",
    "           'model_dynamics'                           : f,\n",
    "           'model_jacobian'                           : jacF,\n",
    "           'observation_operator'                     : h,\n",
    "           'observation_jacobian'                     : jacH,\n",
    "           'observations'                             : Yo,\n",
    "           'nb_iterations'                            : N_iter,\n",
    "           'true_state'                               : X_true,\n",
    "           'state_size'                               : Nx,\n",
    "           'observation_size'                         : No,\n",
    "           'temporal_window_size'                     : T,\n",
    "           'adaptive_parameter'                       : 25000 ### IMPORTANT\n",
    "         }\n",
    "\n",
    "# function\n",
    "res_CI_EKS = CI_EKS(params)\n",
    "\n",
    "# extract outputs\n",
    "lambda_CI_EKS = res_CI_EKS['adaptive_multiplicative_inflation']\n",
    "sigma2_R_CI_EKS = res_CI_EKS['adaptive_observation_noise_variance']\n",
    "loglik_CI_EKS = res_CI_EKS['loglikelihood']\n",
    "RMSE_CI_EKS = res_CI_EKS['RMSE']"
   ]
  },
  {
   "cell_type": "markdown",
   "metadata": {},
   "source": [
    "# LI-EKS: Lag Innovation statistics (online)\n",
    "\n",
    "Here, we use the lag innovation statistics (difference between consecutive innovations). This code is an extension of the method attached to the publication from **Berry and Sauer 2013**: \"Adaptive ensemble Kalman filtering of non-linear systems\", *Tellus A*."
   ]
  },
  {
   "cell_type": "code",
   "execution_count": null,
   "metadata": {
    "collapsed": true
   },
   "outputs": [],
   "source": [
    "subplot(2,2,1);plot(lambda_CI_EKS)\n",
    "subplot(2,2,2);plot(sigma2_R_CI_EKS)\n",
    "subplot(2,2,3);plot(loglik_CI_EKS)\n",
    "subplot(2,2,4);plot(RMSE_CI_EKS)\n",
    "print(RMSE_CI_EKS)"
   ]
  },
  {
   "cell_type": "code",
   "execution_count": null,
   "metadata": {
    "collapsed": true
   },
   "outputs": [],
   "source": [
    "# initial counditions \n",
    "lambda_init = 1.93\n",
    "sigma2_R_init = 1.26\n",
    "\n",
    "# parameters\n",
    "params = { 'initial_background_state'                 : xb,\n",
    "           'initial_background_covariance'            : B,\n",
    "           'initial_multiplicative_inflation'         : lambda_init,\n",
    "           'initial_observation_noise_variance'       : sigma2_R_init,\n",
    "           'model_dynamics'                           : f,\n",
    "           'model_jacobian'                           : jacF,\n",
    "           'observation_operator'                     : h,\n",
    "           'observation_jacobian'                     : jacH,\n",
    "           'observations'                             : Yo,\n",
    "           'true_state'                               : X_true,\n",
    "           'state_size'                               : Nx,\n",
    "           'observation_size'                         : No,\n",
    "           'temporal_window_size'                     : T,\n",
    "           'adaptive_parameter'                       : 20000 ### IMPORTANT\n",
    "         }\n",
    "\n",
    "# function\n",
    "res_CI_EKF = CI_EKF(params)\n",
    "\n",
    "# extract outputs\n",
    "lambda_CI_EKF = res_CI_EKF['adaptive_multiplicative_inflation']\n",
    "sigma2_R_CI_EKF = res_CI_EKF['adaptive_observation_noise_variance']\n",
    "loglik_CI_EKF = res_CI_EKF['loglikelihood']\n",
    "RMSE_CI_EKF = res_CI_EKF['RMSE']"
   ]
  },
  {
   "cell_type": "code",
   "execution_count": null,
   "metadata": {
    "collapsed": true
   },
   "outputs": [],
   "source": [
    "subplot(2,1,1);plot(lambda_CI_EKF);print(lambda_CI_EKF[-1])\n",
    "subplot(2,1,2);plot(sigma2_R_CI_EKF);print(sigma2_R_CI_EKF[-1])"
   ]
  },
  {
   "cell_type": "markdown",
   "metadata": {},
   "source": [
    "# LI-EKS: Lag Innovation statistics\n",
    "\n",
    "Here, we use the lag innovation statistics (difference between consecutive innovations). This code is an extension of the method attached to the publication from **Berry and Sauer 2013**: \"Adaptive ensemble Kalman filtering of non-linear systems\", *Tellus A*."
   ]
  },
  {
   "cell_type": "code",
   "execution_count": null,
   "metadata": {
    "collapsed": true
   },
   "outputs": [],
   "source": [
    "# initial counditions\n",
    "Q_init = eye(Nx) # identity matrix for initial Q\n",
    "R_init = eye(No) # identity matrix for initial R\n",
    "\n",
    "# parameters\n",
    "params = { 'initial_background_state'                 : xb,\n",
    "           'initial_background_covariance'            : B,\n",
    "           'initial_model_noise_covariance'           : Q_init,\n",
    "           'initial_observation_noise_covariance'     : R_init,\n",
    "           'model_dynamics'                           : f,\n",
    "           'model_jacobian'                           : jacF,\n",
    "           'observation_operator'                     : h,\n",
    "           'observation_jacobian'                     : jacH,\n",
    "           'observations'                             : Yo,\n",
    "           'true_state'                               : X_true,\n",
    "           'state_size'                               : Nx,\n",
    "           'observation_size'                         : No,\n",
    "           'temporal_window_size'                     : T,\n",
    "           'model_noise_covariance_structure'         : 'full', # Q and R are full\n",
    "           'inflation_factor'                         : 1,\n",
    "           'adaptive_parameter'                       : 3000 ### IMPORTANT\n",
    "         }\n",
    "\n",
    "# function\n",
    "res_LI_EKF = LI_EKF(params)\n",
    "\n",
    "# extract outputs\n",
    "Q_LI_EKF = res_LI_EKF['LI_model_noise_covariance']\n",
    "R_LI_EKF = res_LI_EKF['LI_observation_noise_covariance']\n",
    "loglik_LI_EKF = res_LI_EKF['loglikelihood']\n",
    "RMSE_LI_EKF = res_LI_EKF['RMSE']"
   ]
  },
  {
   "cell_type": "markdown",
   "metadata": {},
   "source": [
    "# CI-EnKS VS LI-EnKS (online methods)\n",
    "\n",
    "Here, we compare the 2 online methods CI-EnKS and LI-EnKS for the estimation of constant $Q$ and $R$ matrices."
   ]
  },
  {
   "cell_type": "code",
   "execution_count": null,
   "metadata": {
    "collapsed": true
   },
   "outputs": [],
   "source": [
    "# plot inflation factor\n",
    "subplot(1,3,1)\n",
    "line1,=plt.plot(lambda_CI_EKF,'b')\n",
    "line2,=plt.plot((0,T),(1,1),'--k')\n",
    "plt.title('Multiplicative inflation estimates')\n",
    "ylim([0,10])\n",
    "plt.legend([line1, line2], ['CI-EKF', '$\\lambda$=1'])\n",
    "\n",
    "# plot trace of Q\n",
    "plt.subplot(1,3,2)\n",
    "line1,=plt.plot(trace(Q_LI_EKF)/Nx,'g')\n",
    "line2,=plt.plot((0,T),(trace(Q_true)/Nx,trace(Q_true)/Nx),'--k')\n",
    "plt.title('Q estimates')\n",
    "ylim([0,1])\n",
    "plt.legend([line1, line2], ['LI-EKS', 'True Q'])\n",
    "\n",
    "# plot trace of R\n",
    "subplot(1,3,3)\n",
    "line1,=plt.plot(sigma2_R_CI_EKF,'b')\n",
    "line2,=plt.plot(trace(R_LI_EKF)/No,'g')\n",
    "line3,=plt.plot((0,T),(trace(R_true)/No,trace(R_true)/No),'--k')\n",
    "plt.title('R estimates')\n",
    "ylim([0,5])\n",
    "plt.legend([line1, line2], ['CI-EKF', 'LI-EKF', 'True $\\sigma^2_o$'])\n",
    "\n",
    "# print log-likelihood\n",
    "print('Log-likelihood (CI-EKF): ', loglik_CI_EKF)\n",
    "print('Log-likelihood (LI-EKF): ', loglik_LI_EKF)\n",
    "print('Log-likelihood (true): ', loglik_true)\n",
    "\n",
    "# print Root Mean Square Error\n",
    "print('RMSE (CI-EKF): ', RMSE_CI_EKF)\n",
    "print('RMSE (LI-EKF): ', RMSE_LI_EKF)\n",
    "print('RMSE (true): ', RMSE_true)"
   ]
  },
  {
   "cell_type": "markdown",
   "metadata": {},
   "source": [
    "# BAYESIAN INFERENCE (ONLINE)\n",
    "\n",
    "Here, we use the adaptive Bayesian inference for the estimation of the variance parameters of the dynamic error and observation error matrices $Q$ and $R$. This code is attached to the publication from **Stroud et al. 2017**: \"A Bayesian adaptive ensemble Kalman filter for sequential state and parameter estimation\", *Monthly Weather Review*."
   ]
  },
  {
   "cell_type": "code",
   "execution_count": null,
   "metadata": {
    "collapsed": true
   },
   "outputs": [],
   "source": [
    "### APPLY THE BAYESIAN INFERENCE USING EXTENDED KALMAN FILTER (BI-EKF)\n",
    "\n",
    "sigma2_Q_init = 1\n",
    "sigma2_R_init = 1\n",
    "\n",
    "# parameters\n",
    "params = { 'initial_background_state'                 : xb,\n",
    "           'initial_background_covariance'            : B,\n",
    "           'initial_model_noise_variance'             : sigma2_Q_init,\n",
    "           'initial_observation_noise_variance'       : sigma2_R_init,\n",
    "           'model_dynamics'                           : f,\n",
    "           'model_jacobian'                           : jacF,\n",
    "           'observation_operator'                     : h,\n",
    "           'observation_jacobian'                     : jacH,\n",
    "           'observations'                             : Yo,\n",
    "           'true_state'                               : X_true,\n",
    "           'state_size'                               : Nx,\n",
    "           'observation_size'                         : No,\n",
    "           'temporal_window_size'                     : T,\n",
    "           'adaptive_parameter'                       : 50\n",
    "         }\n",
    "\n",
    "# function\n",
    "res_BI_EKF = BI_EKF(params)\n",
    "\n",
    "# extract outputs\n",
    "sigma2_Q_BI_EKF = res_BI_EKF['adaptive_model_noise_variance']\n",
    "sigma2_R_BI_EKF = res_BI_EKF['adaptive_observation_noise_variance']\n",
    "loglik_BI_EKF = res_BI_EKF['loglikelihood']\n",
    "RMSE_BI_EKF = res_BI_EKF['RMSE']\n",
    "Xa_BI_EKF = res_BI_EKF['filtered_states']\n",
    "\n",
    "subplot(1,2,1)\n",
    "line1,=plt.plot(lambda_BI_EKF,'b')\n",
    "line2,=plt.plot((0,T),(1,1),'--k')\n",
    "plt.title('Multiplicative inflation estimates')\n",
    "ylim([0,5])\n",
    "plt.legend([line1, line2], ['BI-EKF', '$\\lambda$=1'])\n",
    "\n",
    "subplot(1,2,2)\n",
    "line1,=plt.plot(sigma2_R_BI_EKF,'b')\n",
    "line2,=plt.plot((0,T),(trace(R_true)/No,trace(R_true)/No),'--k')\n",
    "plt.title('R estimates')\n",
    "ylim([0,5])\n",
    "plt.legend([line1, line2], ['BI-EKF', 'True $\\sigma^2_o$'])"
   ]
  }
 ],
 "metadata": {
  "kernelspec": {
   "display_name": "Python 3",
   "language": "python",
   "name": "python3"
  },
  "language_info": {
   "codemirror_mode": {
    "name": "ipython",
    "version": 3
   },
   "file_extension": ".py",
   "mimetype": "text/x-python",
   "name": "python",
   "nbconvert_exporter": "python",
   "pygments_lexer": "ipython3",
   "version": "3.6.3"
  }
 },
 "nbformat": 4,
 "nbformat_minor": 2
}
